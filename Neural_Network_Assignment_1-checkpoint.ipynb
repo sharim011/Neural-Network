{
 "cells": [
  {
   "cell_type": "code",
   "execution_count": 4,
   "metadata": {
    "id": "xhCFfT4M1WV7"
   },
   "outputs": [],
   "source": [
    "import numpy as np\n",
    "class Perceptron:\n",
    "    def __init__(self, learning_rate=0.1, epochs=100): ##Initialization of Weights and Bias:\n",
    "        self.weights = np.random.rand(2)\n",
    "        self.bias = np.random.rand(1)\n",
    "        self.learning_rate = learning_rate\n",
    "        self.epochs = epochs\n",
    "    def step_function(self, x): ##Step Function:\n",
    "        return 1 if x >= 0 else 0\n",
    "    def train(self, inputs, labels):##Training Process:\n",
    "        for epoch in range(self.epochs):\n",
    "            for x, label in zip(inputs, labels):\n",
    "                prediction = self.step_function(np.dot(x, self.weights) + self.bias)\n",
    "                error = label - prediction\n",
    "                self.weights += self.learning_rate * error * x\n",
    "                self.bias += self.learning_rate * error\n",
    "    def predict(self, x):\n",
    "        return self.step_function(np.dot(x, self.weights) + self.bias)"
   ]
  },
  {
   "cell_type": "code",
   "execution_count": 5,
   "metadata": {
    "colab": {
     "base_uri": "https://localhost:8080/"
    },
    "id": "cFK5iNtk1dbJ",
    "outputId": "be6d72c7-9875-466b-8dab-e1cfe96f9a1f"
   },
   "outputs": [
    {
     "name": "stdout",
     "output_type": "stream",
     "text": [
      "Input: [0.9 0.9], Prediction: 1\n",
      "Input: [0.1 0.1], Prediction: 0\n",
      "Input: [0.5 0.5], Prediction: 1\n",
      "Input: [0.8 0.3], Prediction: 1\n"
     ]
    }
   ],
   "source": [
    "# Sample data and labels\n",
    "inputs = np.array([[0.6, 0.6], [0.3, 0.3], [0.7, 0.7], [0.4, 0.2]])\n",
    "labels = np.array([1, 0, 1, 0])\n",
    "# Initialize and train perceptron\n",
    "perceptron = Perceptron()\n",
    "perceptron.train(inputs, labels)\n",
    "# Testing the perceptron with sample inputs\n",
    "test_inputs = np.array([[0.9, 0.9], [0.1, 0.1], [0.5, 0.5], [0.8, 0.3]])\n",
    "for test in test_inputs:\n",
    "    print(f\"Input: {test}, Prediction: {perceptron.predict(test)}\")"
   ]
  },
  {
   "cell_type": "code",
   "execution_count": 6,
   "metadata": {
    "colab": {
     "base_uri": "https://localhost:8080/"
    },
    "id": "czdk3yb61jwZ",
    "outputId": "a2e61f6f-31ae-4347-f95c-e5ade6444b68"
   },
   "outputs": [
    {
     "name": "stdout",
     "output_type": "stream",
     "text": [
      "\n",
      "Results with 200 Epochs:\n",
      "Input: [0.6 0.6], Predicted Output: 1\n",
      "Input: [0.3 0.3], Predicted Output: 0\n",
      "Input: [0.7 0.7], Predicted Output: 1\n",
      "Input: [0.4 0.2], Predicted Output: 0\n"
     ]
    }
   ],
   "source": [
    "# Increasing epochs to 200\n",
    "perceptron_epochs_200 = Perceptron(learning_rate=0.1, epochs=200)\n",
    "perceptron_epochs_200.train(inputs, labels)\n",
    "print(\"\\nResults with 200 Epochs:\")\n",
    "for x in inputs:\n",
    "    print(f\"Input: {x}, Predicted Output: {perceptron_epochs_200.predict(x)}\")\n"
   ]
  },
  {
   "cell_type": "markdown",
   "metadata": {
    "id": "oLIbaI9O3Bbq"
   },
   "source": [
    "##**Modifications** and Experimentation"
   ]
  },
  {
   "cell_type": "code",
   "execution_count": 7,
   "metadata": {
    "colab": {
     "base_uri": "https://localhost:8080/"
    },
    "id": "ENd6tIql2zQ5",
    "outputId": "c27fdaf9-3b11-40c0-829d-2faf3d333621"
   },
   "outputs": [
    {
     "name": "stdout",
     "output_type": "stream",
     "text": [
      "\n",
      "Results with Edge Cases:\n",
      "Input: [0. 0.], Predicted Output: 0\n",
      "Input: [0. 1.], Predicted Output: 0\n",
      "Input: [1. 0.], Predicted Output: 0\n",
      "Input: [1. 1.], Predicted Output: 1\n",
      "Input: [0.1 0.9], Predicted Output: 0\n",
      "Input: [0.9 0.1], Predicted Output: 0\n",
      "Input: [0.6 0.6], Predicted Output: 1\n",
      "Input: [0.4 0.4], Predicted Output: 0\n"
     ]
    }
   ],
   "source": [
    "inputs_edge_cases = np.array([\n",
    "    [0, 0], [0, 1], [1, 0], [1, 1],\n",
    "    [0.1, 0.9], [0.9, 0.1], [0.6, 0.6], [0.4, 0.4]])\n",
    "labels_edge_cases = np.array([0, 0, 0, 1, 0, 0, 1, 0])\n",
    "\n",
    "perceptron_edge_cases = Perceptron(learning_rate=0.1, epochs=100)\n",
    "perceptron_edge_cases.train(inputs_edge_cases, labels_edge_cases)\n",
    "\n",
    "print(\"\\nResults with Edge Cases:\")\n",
    "for x in inputs_edge_cases:\n",
    "    print(f\"Input: {x}, Predicted Output: {perceptron_edge_cases.predict(x)}\")"
   ]
  },
  {
   "cell_type": "code",
   "execution_count": null,
   "metadata": {
    "id": "sSylQ6gb3IvZ"
   },
   "outputs": [],
   "source": []
  }
 ],
 "metadata": {
  "colab": {
   "provenance": []
  },
  "kernelspec": {
   "display_name": "Python 3",
   "name": "python3"
  },
  "language_info": {
   "name": "python"
  }
 },
 "nbformat": 4,
 "nbformat_minor": 0
}
