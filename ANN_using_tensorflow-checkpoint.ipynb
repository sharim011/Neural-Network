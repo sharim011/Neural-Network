{
 "cells": [
  {
   "cell_type": "markdown",
   "metadata": {
    "id": "rivohdljP13F"
   },
   "source": [
    "**Simplest SLP**\n"
   ]
  },
  {
   "cell_type": "code",
   "execution_count": 4,
   "metadata": {
    "id": "l0b2biDs_9Tg"
   },
   "outputs": [
    {
     "name": "stdout",
     "output_type": "stream",
     "text": [
      "Enter a number between 0 and 1: .9\n",
      "\u001b[1m1/1\u001b[0m \u001b[32m━━━━━━━━━━━━━━━━━━━━\u001b[0m\u001b[37m\u001b[0m \u001b[1m0s\u001b[0m 84ms/step\n",
      "Perceptron classification: 1\n"
     ]
    }
   ],
   "source": [
    "import numpy as np\n",
    "import tensorflow as tf\n",
    "from tensorflow.keras.models import Sequential\n",
    "from tensorflow.keras.layers import Dense\n",
    "\n",
    "# Define the model\n",
    "model = Sequential([\n",
    "    Dense(1, input_shape=(1,), activation='sigmoid')  # Single neuron with sigmoid activation\n",
    "])\n",
    "\n",
    "# Compile the model\n",
    "model.compile(optimizer='sgd', loss='binary_crossentropy',\n",
    "              metrics=['accuracy'])\n",
    "\n",
    "np.random.seed(0)\n",
    "X = np.random.rand(100).reshape(-1, 1)  # Shape for input layer\n",
    "y = np.array([1 if x >= 0.5 else 0 for x in X])  # Label: <0.5 => 0, >=0.5 => 1\n",
    "\n",
    "# Train the model without epoch output\n",
    "model.fit(X, y, epochs=10, verbose=0)\n",
    "\n",
    "# Function to get user input and classify it\n",
    "def user_input_classification():\n",
    "    \n",
    "    \n",
    "    \n",
    "        prediction = model.predict(np.array([user_input]))  # Predict with the trained model\n",
    "        classification = 1 if prediction > 0.5 else 0\n",
    "        print(f\"Perceptron classification: {classification}\")\n",
    "    else:\n",
    "        print(\"Please enter a number between 0 and 1.\")\n",
    "\n",
    "# Classify user input\n",
    "user_input_classification()\n",
    "\n"
   ]
  },
  {
   "cell_type": "markdown",
   "metadata": {
    "id": "NMe-j_dsF9-i"
   },
   "source": [
    "**Code with two input neurons**"
   ]
  },
  {
   "cell_type": "code",
   "execution_count": 1,
   "metadata": {
    "colab": {
     "base_uri": "https://localhost:8080/"
    },
    "id": "O-ronDbPF-nh",
    "outputId": "8005a034-044a-4f94-802f-650cd3132074"
   },
   "outputs": [
    {
     "name": "stderr",
     "output_type": "stream",
     "text": [
      "C:\\Users\\khans\\AppData\\Roaming\\Python\\Python311\\site-packages\\keras\\src\\layers\\core\\dense.py:87: UserWarning: Do not pass an `input_shape`/`input_dim` argument to a layer. When using Sequential models, prefer using an `Input(shape)` object as the first layer in the model instead.\n",
      "  super().__init__(activity_regularizer=activity_regularizer, **kwargs)\n"
     ]
    },
    {
     "ename": "KeyboardInterrupt",
     "evalue": "Interrupted by user",
     "output_type": "error",
     "traceback": [
      "\u001b[1;31m---------------------------------------------------------------------------\u001b[0m",
      "\u001b[1;31mKeyboardInterrupt\u001b[0m                         Traceback (most recent call last)",
      "Cell \u001b[1;32mIn[1], line 41\u001b[0m\n\u001b[0;32m     38\u001b[0m     \u001b[38;5;28mprint\u001b[39m(\u001b[38;5;124mf\u001b[39m\u001b[38;5;124m\"\u001b[39m\u001b[38;5;124mPerceptron classification: \u001b[39m\u001b[38;5;132;01m{\u001b[39;00mclassification\u001b[38;5;132;01m}\u001b[39;00m\u001b[38;5;124m\"\u001b[39m)\n\u001b[0;32m     40\u001b[0m \u001b[38;5;66;03m# Classify user input\u001b[39;00m\n\u001b[1;32m---> 41\u001b[0m user_input_classification()\n",
      "Cell \u001b[1;32mIn[1], line 25\u001b[0m, in \u001b[0;36muser_input_classification\u001b[1;34m()\u001b[0m\n\u001b[0;32m     23\u001b[0m \u001b[38;5;28;01mdef\u001b[39;00m \u001b[38;5;21muser_input_classification\u001b[39m():\n\u001b[0;32m     24\u001b[0m     \u001b[38;5;66;03m# Collect two user inputs\u001b[39;00m\n\u001b[1;32m---> 25\u001b[0m     user_input1 \u001b[38;5;241m=\u001b[39m \u001b[38;5;28mfloat\u001b[39m(\u001b[38;5;28minput\u001b[39m(\u001b[38;5;124m\"\u001b[39m\u001b[38;5;124mEnter first number between 0 and 1: \u001b[39m\u001b[38;5;124m\"\u001b[39m))\n\u001b[0;32m     26\u001b[0m     user_input2 \u001b[38;5;241m=\u001b[39m \u001b[38;5;28mfloat\u001b[39m(\u001b[38;5;28minput\u001b[39m(\u001b[38;5;124m\"\u001b[39m\u001b[38;5;124mEnter second number between 0 and 1: \u001b[39m\u001b[38;5;124m\"\u001b[39m))\n\u001b[0;32m     28\u001b[0m     \u001b[38;5;66;03m# Clamp each input to the range [0, 1]\u001b[39;00m\n\u001b[0;32m     29\u001b[0m     \u001b[38;5;66;03m#user_input1 = max(0, min(user_input1, 1))\u001b[39;00m\n\u001b[0;32m     30\u001b[0m     \u001b[38;5;66;03m#user_input2 = max(0, min(user_input2, 1))\u001b[39;00m\n\u001b[0;32m     31\u001b[0m \n\u001b[0;32m     32\u001b[0m     \u001b[38;5;66;03m# Reshape inputs for prediction\u001b[39;00m\n",
      "File \u001b[1;32mC:\\ProgramData\\anaconda3\\Lib\\site-packages\\ipykernel\\kernelbase.py:1202\u001b[0m, in \u001b[0;36mKernel.raw_input\u001b[1;34m(self, prompt)\u001b[0m\n\u001b[0;32m   1200\u001b[0m     msg \u001b[38;5;241m=\u001b[39m \u001b[38;5;124m\"\u001b[39m\u001b[38;5;124mraw_input was called, but this frontend does not support input requests.\u001b[39m\u001b[38;5;124m\"\u001b[39m\n\u001b[0;32m   1201\u001b[0m     \u001b[38;5;28;01mraise\u001b[39;00m StdinNotImplementedError(msg)\n\u001b[1;32m-> 1202\u001b[0m \u001b[38;5;28;01mreturn\u001b[39;00m \u001b[38;5;28mself\u001b[39m\u001b[38;5;241m.\u001b[39m_input_request(\n\u001b[0;32m   1203\u001b[0m     \u001b[38;5;28mstr\u001b[39m(prompt),\n\u001b[0;32m   1204\u001b[0m     \u001b[38;5;28mself\u001b[39m\u001b[38;5;241m.\u001b[39m_parent_ident[\u001b[38;5;124m\"\u001b[39m\u001b[38;5;124mshell\u001b[39m\u001b[38;5;124m\"\u001b[39m],\n\u001b[0;32m   1205\u001b[0m     \u001b[38;5;28mself\u001b[39m\u001b[38;5;241m.\u001b[39mget_parent(\u001b[38;5;124m\"\u001b[39m\u001b[38;5;124mshell\u001b[39m\u001b[38;5;124m\"\u001b[39m),\n\u001b[0;32m   1206\u001b[0m     password\u001b[38;5;241m=\u001b[39m\u001b[38;5;28;01mFalse\u001b[39;00m,\n\u001b[0;32m   1207\u001b[0m )\n",
      "File \u001b[1;32mC:\\ProgramData\\anaconda3\\Lib\\site-packages\\ipykernel\\kernelbase.py:1245\u001b[0m, in \u001b[0;36mKernel._input_request\u001b[1;34m(self, prompt, ident, parent, password)\u001b[0m\n\u001b[0;32m   1242\u001b[0m \u001b[38;5;28;01mexcept\u001b[39;00m \u001b[38;5;167;01mKeyboardInterrupt\u001b[39;00m:\n\u001b[0;32m   1243\u001b[0m     \u001b[38;5;66;03m# re-raise KeyboardInterrupt, to truncate traceback\u001b[39;00m\n\u001b[0;32m   1244\u001b[0m     msg \u001b[38;5;241m=\u001b[39m \u001b[38;5;124m\"\u001b[39m\u001b[38;5;124mInterrupted by user\u001b[39m\u001b[38;5;124m\"\u001b[39m\n\u001b[1;32m-> 1245\u001b[0m     \u001b[38;5;28;01mraise\u001b[39;00m \u001b[38;5;167;01mKeyboardInterrupt\u001b[39;00m(msg) \u001b[38;5;28;01mfrom\u001b[39;00m \u001b[38;5;28;01mNone\u001b[39;00m\n\u001b[0;32m   1246\u001b[0m \u001b[38;5;28;01mexcept\u001b[39;00m \u001b[38;5;167;01mException\u001b[39;00m:\n\u001b[0;32m   1247\u001b[0m     \u001b[38;5;28mself\u001b[39m\u001b[38;5;241m.\u001b[39mlog\u001b[38;5;241m.\u001b[39mwarning(\u001b[38;5;124m\"\u001b[39m\u001b[38;5;124mInvalid Message:\u001b[39m\u001b[38;5;124m\"\u001b[39m, exc_info\u001b[38;5;241m=\u001b[39m\u001b[38;5;28;01mTrue\u001b[39;00m)\n",
      "\u001b[1;31mKeyboardInterrupt\u001b[0m: Interrupted by user"
     ]
    }
   ],
   "source": [
    "import numpy as np\n",
    "import tensorflow as tf\n",
    "from tensorflow.keras.models import Sequential\n",
    "from tensorflow.keras.layers import Dense\n",
    "\n",
    "# Define the model with two input neurons\n",
    "model = Sequential([\n",
    "    Dense(1, input_shape=(2,), activation='sigmoid')\n",
    "])\n",
    "\n",
    "# Compile the model\n",
    "model.compile(optimizer='sgd', loss='binary_crossentropy', metrics=['accuracy'])\n",
    "\n",
    "# Generate random training data with two features\n",
    "np.random.seed(0)\n",
    "X = np.random.rand(100, 2)  # Each row now has two values\n",
    "y = np.array([1 if x[0] >= 0.5 and  x[1] >= 0.5 else 0 for x in X])  # Label based on sum of features\n",
    "\n",
    "# Train the model with more epochs for accuracy\n",
    "model.fit(X, y, epochs=500, verbose=0)  # Increased epochs\n",
    "\n",
    "# Function to get user input and classify it\n",
    "def user_input_classification():\n",
    "    # Collect two user inputs\n",
    "    user_input1 = float(input(\"Enter first number between 0 and 1: \"))\n",
    "    user_input2 = float(input(\"Enter second number between 0 and 1: \"))\n",
    "\n",
    "    # Clamp each input to the range [0, 1]\n",
    "    #user_input1 = max(0, min(user_input1, 1))\n",
    "    #user_input2 = max(0, min(user_input2, 1))\n",
    "\n",
    "    # Reshape inputs for prediction\n",
    "    user_inputs = np.array([[user_input1, user_input2]])\n",
    "\n",
    "    # Predict and classify\n",
    "    prediction = model.predict(user_inputs)\n",
    "    classification = int(prediction[0][0] >= 0.5)  # Threshold at 0.5\n",
    "    print(f\"Perceptron classification: {classification}\")\n",
    "\n",
    "# Classify user input\n",
    "user_input_classification()"
   ]
  },
  {
   "cell_type": "markdown",
   "metadata": {
    "id": "mCKa_JwUJiD3"
   },
   "source": [
    "**Code with additional hidden layer and two input neurons**"
   ]
  },
  {
   "cell_type": "code",
   "execution_count": 7,
   "metadata": {
    "id": "ZmNOj6EEJi3V"
   },
   "outputs": [
    {
     "name": "stdout",
     "output_type": "stream",
     "text": [
      "Enter first number between 0 and 1: .9\n",
      "Enter second number between 0 and 1: .8\n",
      "WARNING:tensorflow:5 out of the last 5 calls to <function TensorFlowTrainer.make_predict_function.<locals>.one_step_on_data_distributed at 0x000001DDB4976D40> triggered tf.function retracing. Tracing is expensive and the excessive number of tracings could be due to (1) creating @tf.function repeatedly in a loop, (2) passing tensors with different shapes, (3) passing Python objects instead of tensors. For (1), please define your @tf.function outside of the loop. For (2), @tf.function has reduce_retracing=True option that can avoid unnecessary retracing. For (3), please refer to https://www.tensorflow.org/guide/function#controlling_retracing and https://www.tensorflow.org/api_docs/python/tf/function for  more details.\n",
      "\u001b[1m1/1\u001b[0m \u001b[32m━━━━━━━━━━━━━━━━━━━━\u001b[0m\u001b[37m\u001b[0m \u001b[1m0s\u001b[0m 97ms/step\n",
      "Perceptron classification: 1\n"
     ]
    }
   ],
   "source": [
    "import numpy as np\n",
    "import tensorflow as tf\n",
    "from tensorflow.keras.models import Sequential\n",
    "from tensorflow.keras.layers import Dense\n",
    "\n",
    "# Define the model with a hidden layer of two neurons and an output layer\n",
    "model = Sequential([\n",
    "    Dense(2, input_shape=(2,), activation='sigmoid'),   # Hidden layer with 2 neurons and ReLU activation\n",
    "    Dense(1, activation='sigmoid')                   # Output layer with 1 neuron and sigmoid activation\n",
    "])\n",
    "\n",
    "# Compile the model\n",
    "model.compile(optimizer='sgd', loss='binary_crossentropy', metrics=['accuracy'])\n",
    "\n",
    "# Generate random training data with two features\n",
    "np.random.seed(0)\n",
    "X = np.random.rand(100, 2)  # Each row now has two values\n",
    "y = np.array([1 if x[0] + x[1] >= 1 else 0 for x in X])  # Label based on sum of features\n",
    "\n",
    "# Train the model with more epochs for accuracy\n",
    "model.fit(X, y, epochs=500, verbose=0)  # Increased epochs\n",
    "\n",
    "# Function to get user input and classify it\n",
    "def user_input_classification():\n",
    "    # Collect two user inputs\n",
    "    user_input1 = float(input(\"Enter first number between 0 and 1: \"))\n",
    "    user_input2 = float(input(\"Enter second number between 0 and 1: \"))\n",
    "\n",
    "    # Clamp each input to the range [0, 1]\n",
    "    user_input1 = max(0, min(user_input1, 1))\n",
    "    user_input2 = max(0, min(user_input2, 1))\n",
    "\n",
    "    # Reshape inputs for prediction\n",
    "    user_inputs = np.array([[user_input1, user_input2]])\n",
    "\n",
    "    # Predict and classify\n",
    "    prediction = model.predict(user_inputs)\n",
    "    classification = int(prediction[0][0] >= 0.5)  # Threshold at 0.5\n",
    "    print(f\"Perceptron classification: {classification}\")\n",
    "\n",
    "# Classify user input\n",
    "user_input_classification()\n"
   ]
  },
  {
   "cell_type": "markdown",
   "metadata": {
    "id": "vYNv9TcZNdca"
   },
   "source": [
    "**Linear Regression**"
   ]
  },
  {
   "cell_type": "code",
   "execution_count": 25,
   "metadata": {
    "colab": {
     "base_uri": "https://localhost:8080/"
    },
    "id": "2ggRAU9pM0Bm",
    "outputId": "0b7b5748-99ad-46a4-b881-75e227dc873c"
   },
   "outputs": [
    {
     "name": "stdout",
     "output_type": "stream",
     "text": [
      "Enter a value for prediction: 9\n",
      "\u001b[1m1/1\u001b[0m \u001b[32m━━━━━━━━━━━━━━━━━━━━\u001b[0m\u001b[37m\u001b[0m \u001b[1m0s\u001b[0m 26ms/step\n",
      "Predicted output for input 9.0: 19.0268497467041\n"
     ]
    }
   ],
   "source": [
    "# Import necessary libraries\n",
    "import numpy as np\n",
    "from tensorflow.keras.models import Sequential\n",
    "from tensorflow.keras.layers import Dense\n",
    "import tensorflow as tf\n",
    "\n",
    "# Sample data: X (input), Y (output) for training\n",
    "# Example: Let's assume we're predicting the output of a linear equation y = 2x + 1\n",
    "X = np.array([1, 2, 3, 4, 5], dtype=float)\n",
    "Y = np.array([3, 5, 7, 9, 11], dtype=float)\n",
    "\n",
    "# Build the ANN model\n",
    "model = Sequential([\n",
    "    Dense(units=1, input_shape=(1,), activation='linear')\n",
    "    ])\n",
    "\n",
    "# Compile the model with SGD optimizer\n",
    "model.compile(optimizer='sgd', loss='mean_squared_error')\n",
    "\n",
    "# Train the model without displaying the epochs\n",
    "model.fit(X, Y, epochs=1000, verbose=0)\n",
    "\n",
    "# Predict the output for a user input\n",
    "user_input = float(input(\"Enter a value for prediction: \"))\n",
    "prediction = model.predict(np.array([[user_input]]))\n",
    "\n",
    "# Display the prediction\n",
    "print(f\"Predicted output for input {user_input}: {prediction[0][0]}\")\n"
   ]
  },
  {
   "cell_type": "code",
   "execution_count": 2,
   "metadata": {
    "id": "xbUK2DCLM_Uc"
   },
   "outputs": [
    {
     "name": "stdout",
     "output_type": "stream",
     "text": [
      "Enter first number between 0 and 1: .6\n",
      "Enter second number between 0 and 1: .9\n",
      "\u001b[1m1/1\u001b[0m \u001b[32m━━━━━━━━━━━━━━━━━━━━\u001b[0m\u001b[37m\u001b[0m \u001b[1m0s\u001b[0m 245ms/step\n",
      "Perceptron classification: 1\n"
     ]
    }
   ],
   "source": [
    "import numpy as np\n",
    "import tensorflow as tf\n",
    "from tensorflow.keras.models import Sequential\n",
    "from tensorflow.keras.layers import Dense\n",
    "\n",
    "# Define the model with 10 dense layers, each with 4 neurons and sigmoid activation\n",
    "model = Sequential([\n",
    "    Dense(4, input_shape=(2,), activation='sigmoid')\n",
    "])\n",
    "\n",
    "# Adding additional 9 Dense layers with 4 neurons each\n",
    "for _ in range(9):\n",
    "    model.add(Dense(4, activation='sigmoid'))\n",
    "\n",
    "# Output layer with 1 neuron and sigmoid activation\n",
    "model.add(Dense(1, activation='sigmoid'))\n",
    "\n",
    "# Compile the model\n",
    "model.compile(optimizer='sgd', loss='binary_crossentropy', metrics=['accuracy'])\n",
    "\n",
    "# Generate random training data with two features\n",
    "np.random.seed(0)\n",
    "X = np.random.rand(100, 2)  # Each row has two values\n",
    "y = np.array([1 if x[0] + x[1] >= 1 else 0 for x in X])  # Label based on sum of features\n",
    "\n",
    "# Train the model with more epochs for accuracy\n",
    "model.fit(X, y, epochs=500, verbose=0)  # Increased epochs\n",
    "\n",
    "# Function to get user input and classify it\n",
    "def user_input_classification():\n",
    "    # Collect two user inputs\n",
    "    user_input1 = float(input(\"Enter first number between 0 and 1: \"))\n",
    "    user_input2 = float(input(\"Enter second number between 0 and 1: \"))\n",
    "\n",
    "    # Clamp each input to the range [0, 1]\n",
    "    user_input1 = max(0, min(user_input1, 1))\n",
    "    user_input2 = max(0, min(user_input2, 1))\n",
    "\n",
    "    # Reshape inputs for prediction\n",
    "    user_inputs = np.array([[user_input1, user_input2]])\n",
    "\n",
    "    # Predict and classify\n",
    "    prediction = model.predict(user_inputs)\n",
    "    classification = int(prediction[0][0] >= 0.5)  # Threshold at 0.5\n",
    "    print(f\"Perceptron classification: {classification}\")\n",
    "\n",
    "# Classify user input\n",
    "user_input_classification()\n"
   ]
  },
  {
   "cell_type": "code",
   "execution_count": null,
   "metadata": {},
   "outputs": [],
   "source": [
    "\n"
   ]
  }
 ],
 "metadata": {
  "colab": {
   "provenance": []
  },
  "kernelspec": {
   "display_name": "Python 3 (ipykernel)",
   "language": "python",
   "name": "python3"
  },
  "language_info": {
   "codemirror_mode": {
    "name": "ipython",
    "version": 3
   },
   "file_extension": ".py",
   "mimetype": "text/x-python",
   "name": "python",
   "nbconvert_exporter": "python",
   "pygments_lexer": "ipython3",
   "version": "3.11.5"
  }
 },
 "nbformat": 4,
 "nbformat_minor": 1
}
